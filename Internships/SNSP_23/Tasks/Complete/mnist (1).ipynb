{
 "cells": [
  {
   "cell_type": "code",
   "execution_count": 1,
   "metadata": {},
   "outputs": [
    {
     "name": "stderr",
     "output_type": "stream",
     "text": [
      "/Users/medo/Documents/Projects/jax-tutorial/venv/lib/python3.10/site-packages/tqdm/auto.py:21: TqdmWarning: IProgress not found. Please update jupyter and ipywidgets. See https://ipywidgets.readthedocs.io/en/stable/user_install.html\n",
      "  from .autonotebook import tqdm as notebook_tqdm\n"
     ]
    }
   ],
   "source": [
    "import jax\n",
    "from jax import numpy as jnp\n",
    "\n",
    "import numpy as np\n",
    "\n",
    "from flax import linen as nn\n",
    "import tensorflow_datasets as tfds\n",
    "\n",
    "from matplotlib import pyplot as plt"
   ]
  },
  {
   "attachments": {},
   "cell_type": "markdown",
   "metadata": {},
   "source": [
    "## Data inspection"
   ]
  },
  {
   "cell_type": "code",
   "execution_count": 2,
   "metadata": {},
   "outputs": [],
   "source": [
    "ds, info = tfds.load(name=\"mnist\", batch_size=-1, data_dir='.', as_supervised=False, with_info=True)\n",
    "# as_supervised=True gives us the (image, label) as a tuple instead of a dictionary"
   ]
  },
  {
   "cell_type": "code",
   "execution_count": 3,
   "metadata": {},
   "outputs": [
    {
     "data": {
      "text/plain": [
       "tfds.core.DatasetInfo(\n",
       "    name='mnist',\n",
       "    full_name='mnist/3.0.1',\n",
       "    description=\"\"\"\n",
       "    The MNIST database of handwritten digits.\n",
       "    \"\"\",\n",
       "    homepage='http://yann.lecun.com/exdb/mnist/',\n",
       "    data_path='./mnist/3.0.1',\n",
       "    file_format=tfrecord,\n",
       "    download_size=11.06 MiB,\n",
       "    dataset_size=21.00 MiB,\n",
       "    features=FeaturesDict({\n",
       "        'image': Image(shape=(28, 28, 1), dtype=uint8),\n",
       "        'label': ClassLabel(shape=(), dtype=int64, num_classes=10),\n",
       "    }),\n",
       "    supervised_keys=('image', 'label'),\n",
       "    disable_shuffling=False,\n",
       "    splits={\n",
       "        'test': <SplitInfo num_examples=10000, num_shards=1>,\n",
       "        'train': <SplitInfo num_examples=60000, num_shards=1>,\n",
       "    },\n",
       "    citation=\"\"\"@article{lecun2010mnist,\n",
       "      title={MNIST handwritten digit database},\n",
       "      author={LeCun, Yann and Cortes, Corinna and Burges, CJ},\n",
       "      journal={ATT Labs [Online]. Available: http://yann.lecun.com/exdb/mnist},\n",
       "      volume={2},\n",
       "      year={2010}\n",
       "    }\"\"\",\n",
       ")"
      ]
     },
     "execution_count": 3,
     "metadata": {},
     "output_type": "execute_result"
    }
   ],
   "source": [
    "info"
   ]
  },
  {
   "cell_type": "code",
   "execution_count": 4,
   "metadata": {},
   "outputs": [],
   "source": [
    "mnist_data = tfds.as_numpy(ds) # Don't run this for large datasets!"
   ]
  },
  {
   "cell_type": "code",
   "execution_count": 5,
   "metadata": {},
   "outputs": [],
   "source": [
    "# Full train set\n",
    "train_data = mnist_data['train']\n",
    "train_images, train_labels = train_data['image'], train_data['label']\n",
    "train_images = train_images.reshape(-1, 28, 28)\n",
    "\n",
    "# # Full test set\n",
    "# test_data = mnist_data['test']\n",
    "# test_images, test_labels = test_data['image'], test_data['label']\n",
    "# test_images = test_images.reshape(-1, 28, 28)"
   ]
  },
  {
   "cell_type": "code",
   "execution_count": 6,
   "metadata": {},
   "outputs": [
    {
     "data": {
      "text/plain": [
       "(60000, 28, 28)"
      ]
     },
     "execution_count": 6,
     "metadata": {},
     "output_type": "execute_result"
    }
   ],
   "source": [
    "train_images.shape # shape = (60000, 28, 28)"
   ]
  },
  {
   "cell_type": "code",
   "execution_count": 8,
   "metadata": {},
   "outputs": [
    {
     "data": {
      "text/plain": [
       "1"
      ]
     },
     "execution_count": 8,
     "metadata": {},
     "output_type": "execute_result"
    },
    {
     "data": {
      "image/png": "[encoded data removed]",
      "text/plain": [
       "<Figure size 640x480 with 1 Axes>"
      ]
     },
     "metadata": {},
     "output_type": "display_data"
    }
   ],
   "source": [
    "i = np.random.randint(0, train_images.shape[0])\n",
    "\n",
    "plt.imshow(train_images[i], cmap='gray')\n",
    "train_labels[i]"
   ]
  },
  {
   "attachments": {},
   "cell_type": "markdown",
   "metadata": {},
   "source": [
    "# Network definition"
   ]
  },
  {
   "attachments": {},
   "cell_type": "markdown",
   "metadata": {},
   "source": [
    "Linear or Dense = $A x + b$"
   ]
  },
  {
   "attachments": {},
   "cell_type": "markdown",
   "metadata": {},
   "source": [
    "2 layer MLP (NN): $A_2 \\sigma(A_1 x + b_1) + b_2$"
   ]
  },
  {
   "attachments": {},
   "cell_type": "markdown",
   "metadata": {},
   "source": [
    "Output: A probability distribution over 10 outcomes $\\rightarrow$ <i> Softmax</i>:\n",
    "\n",
    "$$ S(x) = \\frac{e^{x_i}}{\\sum _j e^{x_j}} \\qquad \\Rightarrow \\qquad \\ln S(x) = x_i - \\ln \\sum _j e^{x_j}$$"
   ]
  },
  {
   "cell_type": "code",
   "execution_count": 21,
   "metadata": {},
   "outputs": [],
   "source": [
    "class MLP(nn.Module):\n",
    "\n",
    "    def setup(self):\n",
    "        \n",
    "        # Define the layers\n",
    "        self.linear1 = nn.Dense(features=256)\n",
    "        self.linear2 = nn.Dense(features=256)\n",
    "        self.linear3 = nn.Dense(features=10) # 10 classes we want to predict!\n",
    "\n",
    "    def __call__(self, x):\n",
    "\n",
    "        h = self.linear1(x)\n",
    "        h = jax.nn.sigmoid(h)\n",
    "        h = self.linear2(h)\n",
    "        h = jax.nn.sigmoid(h)\n",
    "        h = self.linear3(h)\n",
    "        \n",
    "        return jax.nn.log_softmax(h)"
   ]
  },
  {
   "cell_type": "code",
   "execution_count": 22,
   "metadata": {},
   "outputs": [],
   "source": [
    "# x = np.linspace(-8, 8, 100)\n",
    "# y = jax.nn.sigmoid(x)\n",
    "# plt.plot(x, y, c='steelblue')"
   ]
  },
  {
   "cell_type": "code",
   "execution_count": 102,
   "metadata": {},
   "outputs": [
    {
     "data": {
      "text/plain": [
       "(784,)"
      ]
     },
     "execution_count": 102,
     "metadata": {},
     "output_type": "execute_result"
    }
   ],
   "source": [
    "example_input = train_images[0].reshape(-1)\n",
    "example_input.shape"
   ]
  },
  {
   "cell_type": "code",
   "execution_count": 103,
   "metadata": {},
   "outputs": [],
   "source": [
    "key = jax.random.PRNGKey(0)\n",
    "\n",
    "f = MLP()\n",
    "params = f.init(key, example_input)"
   ]
  },
  {
   "cell_type": "code",
   "execution_count": 104,
   "metadata": {},
   "outputs": [],
   "source": [
    "# params"
   ]
  },
  {
   "cell_type": "code",
   "execution_count": 105,
   "metadata": {},
   "outputs": [
    {
     "data": {
      "text/plain": [
       "(784, 256)"
      ]
     },
     "execution_count": 105,
     "metadata": {},
     "output_type": "execute_result"
    }
   ],
   "source": [
    "params['params']['linear1']['kernel'].shape"
   ]
  },
  {
   "cell_type": "code",
   "execution_count": 106,
   "metadata": {},
   "outputs": [
    {
     "data": {
      "text/plain": [
       "Array(0.99999994, dtype=float32)"
      ]
     },
     "execution_count": 106,
     "metadata": {},
     "output_type": "execute_result"
    }
   ],
   "source": [
    "outputs = f.apply(params, example_input)\n",
    "jnp.exp(outputs).sum()"
   ]
  },
  {
   "cell_type": "code",
   "execution_count": 107,
   "metadata": {},
   "outputs": [
    {
     "data": {
      "text/plain": [
       "(32, 28, 28)"
      ]
     },
     "execution_count": 107,
     "metadata": {},
     "output_type": "execute_result"
    }
   ],
   "source": [
    "train_images[:32].shape"
   ]
  },
  {
   "cell_type": "code",
   "execution_count": 108,
   "metadata": {},
   "outputs": [
    {
     "data": {
      "text/plain": [
       "(32, 28, 28)"
      ]
     },
     "execution_count": 108,
     "metadata": {},
     "output_type": "execute_result"
    }
   ],
   "source": [
    "batched_data = train_images[:32]\n",
    "jnp.shape(batched_data)"
   ]
  },
  {
   "cell_type": "code",
   "execution_count": 109,
   "metadata": {},
   "outputs": [
    {
     "data": {
      "text/plain": [
       "(32, 10)"
      ]
     },
     "execution_count": 109,
     "metadata": {},
     "output_type": "execute_result"
    }
   ],
   "source": [
    "f.apply(params, batched_data.reshape(-1, 28**2)).shape"
   ]
  },
  {
   "cell_type": "code",
   "execution_count": 110,
   "metadata": {},
   "outputs": [],
   "source": [
    "predictions = f.apply(params, batched_data.reshape(-1, 28**2))"
   ]
  },
  {
   "cell_type": "code",
   "execution_count": 111,
   "metadata": {},
   "outputs": [
    {
     "data": {
      "text/plain": [
       "(32, 10)"
      ]
     },
     "execution_count": 111,
     "metadata": {},
     "output_type": "execute_result"
    }
   ],
   "source": [
    "predictions.shape"
   ]
  },
  {
   "cell_type": "code",
   "execution_count": 112,
   "metadata": {},
   "outputs": [
    {
     "data": {
      "text/plain": [
       "Array([-24.830105, -25.364803, -24.496176, -24.95129 , -24.847576,\n",
       "       -24.705235, -24.909628, -24.905033, -25.018301, -24.90951 ,\n",
       "       -24.769005, -24.50695 , -24.560177, -24.998657, -24.875933,\n",
       "       -24.69549 , -24.906822, -24.346184, -24.401451, -25.132065,\n",
       "       -24.620852, -24.866426, -24.76841 , -24.472925, -24.597727,\n",
       "       -24.50308 , -24.637085, -24.681305, -24.818832, -24.741459,\n",
       "       -24.668053, -24.723787], dtype=float32)"
      ]
     },
     "execution_count": 112,
     "metadata": {},
     "output_type": "execute_result"
    }
   ],
   "source": [
    "predictions.sum(axis=1)"
   ]
  },
  {
   "cell_type": "code",
   "execution_count": 113,
   "metadata": {},
   "outputs": [],
   "source": [
    "def cost(predictions, targets):\n",
    "    per_example_costs = -jnp.sum(targets * predictions, axis=1)\n",
    "    return jnp.mean(per_example_costs)"
   ]
  },
  {
   "cell_type": "code",
   "execution_count": 114,
   "metadata": {},
   "outputs": [],
   "source": [
    "def cost_for_batch(params, images, labels):\n",
    "\n",
    "    flat_images = images.reshape(-1, 28**2)\n",
    "    predictions = f.apply(params, flat_images)\n",
    "\n",
    "    target_distribution = jax.nn.one_hot(labels, 10)\n",
    "\n",
    "    return cost(predictions, target_distribution)\n",
    "\n",
    "value_and_grad_cost = jax.value_and_grad(cost_for_batch)"
   ]
  },
  {
   "cell_type": "markdown",
   "metadata": {},
   "source": [
    "$$ \\theta ' = \\theta - \\eta \\frac{\\partial C}{\\partial \\theta}$$"
   ]
  },
  {
   "cell_type": "code",
   "execution_count": 115,
   "metadata": {},
   "outputs": [],
   "source": [
    "example_batch = train_images[:32]\n",
    "example_labels = train_labels[:32]"
   ]
  },
  {
   "cell_type": "code",
   "execution_count": 116,
   "metadata": {},
   "outputs": [],
   "source": [
    "v, g = value_and_grad_cost(params, batched_data, example_labels)"
   ]
  },
  {
   "cell_type": "code",
   "execution_count": 117,
   "metadata": {},
   "outputs": [],
   "source": [
    "from jax.tree_util import tree_map\n",
    "import optax # Has a lot of optimizers and utilities"
   ]
  },
  {
   "cell_type": "code",
   "execution_count": 118,
   "metadata": {},
   "outputs": [],
   "source": [
    "@jax.jit\n",
    "def training_step(params, images, labels, lr=0.01):\n",
    "    cost_val, grads = value_and_grad_cost(params, images, labels)\n",
    "    new_params = tree_map(lambda p, g: p - lr * g, params, grads)\n",
    "    return new_params, cost_val"
   ]
  },
  {
   "cell_type": "code",
   "execution_count": 119,
   "metadata": {},
   "outputs": [],
   "source": [
    "ds = tfds.load('mnist', split='train', batch_size=32, as_supervised=True, shuffle_files=True)"
   ]
  },
  {
   "cell_type": "code",
   "execution_count": 120,
   "metadata": {},
   "outputs": [],
   "source": [
    "n_epochs = 50"
   ]
  },
  {
   "cell_type": "code",
   "execution_count": 121,
   "metadata": {},
   "outputs": [
    {
     "name": "stdout",
     "output_type": "stream",
     "text": [
      "Epoch 0 cost: 0.451\n",
      "Epoch 1 cost: 0.255\n",
      "Epoch 2 cost: 0.236\n",
      "Epoch 3 cost: 0.176\n",
      "Epoch 4 cost: 0.157\n",
      "Epoch 5 cost: 0.187\n",
      "Epoch 6 cost: 0.149\n",
      "Epoch 7 cost: 0.119\n",
      "Epoch 8 cost: 0.104\n",
      "Epoch 9 cost: 0.126\n",
      "Epoch 10 cost: 0.106\n",
      "Epoch 11 cost: 0.125\n",
      "Epoch 12 cost: 0.092\n",
      "Epoch 13 cost: 0.122\n",
      "Epoch 14 cost: 0.124\n",
      "Epoch 15 cost: 0.092\n",
      "Epoch 16 cost: 0.086\n",
      "Epoch 17 cost: 0.076\n",
      "Epoch 18 cost: 0.105\n",
      "Epoch 19 cost: 0.075\n",
      "Epoch 20 cost: 0.144\n",
      "Epoch 21 cost: 0.105\n",
      "Epoch 22 cost: 0.073\n",
      "Epoch 23 cost: 0.106\n",
      "Epoch 24 cost: 0.061\n",
      "Epoch 25 cost: 0.109\n",
      "Epoch 26 cost: 0.092\n",
      "Epoch 27 cost: 0.064\n",
      "Epoch 28 cost: 0.096\n",
      "Epoch 29 cost: 0.060\n",
      "Epoch 30 cost: 0.069\n",
      "Epoch 31 cost: 0.059\n",
      "Epoch 32 cost: 0.086\n",
      "Epoch 33 cost: 0.091\n",
      "Epoch 34 cost: 0.055\n",
      "Epoch 35 cost: 0.085\n",
      "Epoch 36 cost: 0.085\n",
      "Epoch 37 cost: 0.050\n",
      "Epoch 38 cost: 0.048\n",
      "Epoch 39 cost: 0.052\n",
      "Epoch 40 cost: 0.033\n",
      "Epoch 41 cost: 0.074\n",
      "Epoch 42 cost: 0.070\n",
      "Epoch 43 cost: 0.053\n",
      "Epoch 44 cost: 0.062\n",
      "Epoch 45 cost: 0.094\n",
      "Epoch 46 cost: 0.055\n",
      "Epoch 47 cost: 0.041\n",
      "Epoch 48 cost: 0.040\n",
      "Epoch 49 cost: 0.080\n"
     ]
    }
   ],
   "source": [
    "costs = []\n",
    "\n",
    "for n in range(n_epochs):\n",
    "\n",
    "    for example in ds:\n",
    "        images, labels = tfds.as_numpy(example)\n",
    "        params, cost_val = training_step(params, images, labels)\n",
    "\n",
    "    costs.append(cost_val.item())\n",
    "    print(f\"Epoch {n} cost: {cost_val.item():.3f}\")"
   ]
  },
  {
   "cell_type": "code",
   "execution_count": 122,
   "metadata": {},
   "outputs": [
    {
     "data": {
      "text/plain": [
       "[<matplotlib.lines.Line2D at 0x2e6a5ba90>]"
      ]
     },
     "execution_count": 122,
     "metadata": {},
     "output_type": "execute_result"
    },
    {
     "data": {
      "image/png": "[encoded data removed]",
      "text/plain": [
       "<Figure size 640x480 with 1 Axes>"
      ]
     },
     "metadata": {},
     "output_type": "display_data"
    }
   ],
   "source": [
    "plt.plot(costs)"
   ]
  },
  {
   "cell_type": "code",
   "execution_count": 128,
   "metadata": {},
   "outputs": [
    {
     "data": {
      "text/plain": [
       "Array(5, dtype=int32)"
      ]
     },
     "execution_count": 128,
     "metadata": {},
     "output_type": "execute_result"
    },
    {
     "data": {
      "image/png": "[encoded data removed]",
      "text/plain": [
       "<Figure size 640x480 with 1 Axes>"
      ]
     },
     "metadata": {},
     "output_type": "display_data"
    }
   ],
   "source": [
    "i = np.random.randint(0, train_images.shape[0])\n",
    "\n",
    "plt.imshow(train_images[i], cmap='gray')\n",
    "f.apply(params, train_images[i].reshape(-1, 28**2)).argmax()"
   ]
  },
  {
   "cell_type": "code",
   "execution_count": null,
   "metadata": {},
   "outputs": [],
   "source": []
  }
 ],
 "metadata": {
  "kernelspec": {
   "display_name": "venv",
   "language": "python",
   "name": "python3"
  },
  "language_info": {
   "codemirror_mode": {
    "name": "ipython",
    "version": 3
   },
   "file_extension": ".py",
   "mimetype": "text/x-python",
   "name": "python",
   "nbconvert_exporter": "python",
   "pygments_lexer": "ipython3",
   "version": "3.10.12"
  },
  "orig_nbformat": 4
 },
 "nbformat": 4,
 "nbformat_minor": 2
}
