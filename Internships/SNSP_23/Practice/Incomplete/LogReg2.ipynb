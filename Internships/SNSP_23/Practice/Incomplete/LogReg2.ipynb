{
 "cells": [
  {
   "cell_type": "code",
   "execution_count": 1,
   "metadata": {},
   "outputs": [],
   "source": [
    "import matplotlib.pyplot as plt\n",
    "import math\n",
    "import numpy as np\n",
    "from numpy import linalg as nplin"
   ]
  },
  {
   "cell_type": "code",
   "execution_count": 20,
   "metadata": {},
   "outputs": [
    {
     "name": "stdout",
     "output_type": "stream",
     "text": [
      "You are missing 2 coefficent. Please reenter the values. \n",
      "You have 4 extra coefficent. Please reenter the values. \n"
     ]
    }
   ],
   "source": [
    "M = int(input('What is the degree of the Polynomial? '))\n",
    "coeff = list(map(float,input('Pick the Coeffecients: ').split()))\n",
    "while len(coeff) < M+1:\n",
    "    n = abs((M+1)-len(coeff))\n",
    "    print(f'You are missing {n} coefficent. Please reenter the values. ')\n",
    "    coeff = list(map(float,input('Pick the Coeffecients: ').split()))\n",
    "while len(coeff) > M+1:\n",
    "    n = abs((M+1)-len(coeff))\n",
    "    print(f'You have {n} extra coefficent. Please reenter the values. ')\n",
    "    coeff = list(map(float,input('Pick the Coeffecients: ').split()))\n",
    "\n",
    "\n",
    "\n",
    "\n",
    "\n",
    "\n"
   ]
  },
  {
   "cell_type": "code",
   "execution_count": null,
   "metadata": {},
   "outputs": [],
   "source": []
  },
  {
   "cell_type": "code",
   "execution_count": 10,
   "metadata": {},
   "outputs": [
    {
     "name": "stdout",
     "output_type": "stream",
     "text": [
      "The determinent of this matris is -6.66133814775094e-16\n",
      "[[6. 5. 4.]\n",
      " [5. 4. 3.]\n",
      " [4. 3. 2.]]\n"
     ]
    }
   ],
   "source": [
    "def CorArr(M):\n",
    "    Cor = np.zeros([M,M])\n",
    "    fill = 2*(M) \n",
    "    for I in range(M):\n",
    "            for J in range(M):\n",
    "                Cor[I][J] = fill - (I+J)\n",
    "    #Cor2 = nplin.inv(Cor)\n",
    "    #Cor3 = np.transpose(Cor2)\n",
    "    print(f'The determinent of this matris is {nplin.det(Cor)}')\n",
    "    print(Cor)\n",
    "    return(Cor)\n",
    "part2 = CorArr(3)\n",
    "    "
   ]
  },
  {
   "cell_type": "code",
   "execution_count": 4,
   "metadata": {},
   "outputs": [
    {
     "name": "stdout",
     "output_type": "stream",
     "text": [
      "3\n"
     ]
    }
   ],
   "source": [
    "X = np.linspace(-10,10,100)\n",
    "Y = X**2\n",
    "def SolArr(N,x,y):\n",
    "    sol = np.zeros(M)\n",
    "    for i in range(1,M):\n",
    "        a = list(map(lambda c,d: (c**i)*d,X,Y))\n",
    "        b = sum(a)\n",
    "        sol[i] = b\n",
    "    print(len(sol))\n",
    "    return(sol)\n",
    "\n",
    "part1 = SolArr(N,X,Y)\n",
    "\n",
    "\n",
    "\n",
    "\n"
   ]
  },
  {
   "cell_type": "code",
   "execution_count": 5,
   "metadata": {},
   "outputs": [
    {
     "ename": "ValueError",
     "evalue": "shapes (4,4) and (3,) not aligned: 4 (dim 1) != 3 (dim 0)",
     "output_type": "error",
     "traceback": [
      "\u001b[0;31m---------------------------------------------------------------------------\u001b[0m",
      "\u001b[0;31mValueError\u001b[0m                                Traceback (most recent call last)",
      "Cell \u001b[0;32mIn[5], line 1\u001b[0m\n\u001b[0;32m----> 1\u001b[0m Solutions \u001b[39m=\u001b[39m np\u001b[39m.\u001b[39;49mdot(part2, part1)\n\u001b[1;32m      2\u001b[0m \u001b[39mprint\u001b[39m(\u001b[39mlen\u001b[39m(part2),\u001b[39mlen\u001b[39m(part1))\n\u001b[1;32m      3\u001b[0m \u001b[39mprint\u001b[39m(\u001b[39mlen\u001b[39m(Solutions))\n",
      "\u001b[0;31mValueError\u001b[0m: shapes (4,4) and (3,) not aligned: 4 (dim 1) != 3 (dim 0)"
     ]
    }
   ],
   "source": [
    "Solutions = np.dot(part2, part1)\n",
    "print(len(part2),len(part1))\n",
    "print(len(Solutions))\n",
    "print(Solutions)"
   ]
  },
  {
   "cell_type": "code",
   "execution_count": null,
   "metadata": {},
   "outputs": [
    {
     "data": {
      "text/plain": [
       "<matplotlib.collections.PathCollection at 0x7fdbf219ac50>"
      ]
     },
     "execution_count": 26,
     "metadata": {},
     "output_type": "execute_result"
    },
    {
     "data": {
      "image/png": "[encoded data removed]",
      "text/plain": [
       "<Figure size 640x480 with 1 Axes>"
      ]
     },
     "metadata": {},
     "output_type": "display_data"
    }
   ],
   "source": [
    "plt.scatter(range(len(Solutions)), Solutions)"
   ]
  },
  {
   "cell_type": "code",
   "execution_count": null,
   "metadata": {},
   "outputs": [],
   "source": []
  }
 ],
 "metadata": {
  "kernelspec": {
   "display_name": "env2",
   "language": "python",
   "name": "python3"
  },
  "language_info": {
   "codemirror_mode": {
    "name": "ipython",
    "version": 3
   },
   "file_extension": ".py",
   "mimetype": "text/x-python",
   "name": "python",
   "nbconvert_exporter": "python",
   "pygments_lexer": "ipython3",
   "version": "3.10.11"
  },
  "orig_nbformat": 4
 },
 "nbformat": 4,
 "nbformat_minor": 2
}
